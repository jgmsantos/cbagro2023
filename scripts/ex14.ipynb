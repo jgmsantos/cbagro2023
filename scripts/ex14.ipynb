{
 "cells": [
  {
   "cell_type": "markdown",
   "metadata": {},
   "source": [
    "# Aplicação de Python na Agrometeorologia\n",
    "\n",
    "Este Jupyter Notebook é parte integrande do curso de Python ministrado durante XXII Congresso Brasiliero de Agrometeorologia realizado nos dias 3, 4 e 5 de outubro de 2023 na cidade Natal/RN."
   ]
  },
  {
   "cell_type": "markdown",
   "metadata": {},
   "source": [
    "# Importação de bibliotecas"
   ]
  },
  {
   "cell_type": "code",
   "execution_count": null,
   "metadata": {},
   "outputs": [],
   "source": [
    "import pandas as pd\n",
    "import matplotlib.pyplot as plt"
   ]
  },
  {
   "cell_type": "markdown",
   "metadata": {},
   "source": [
    "# Abertura do arquivo csv"
   ]
  },
  {
   "cell_type": "markdown",
   "metadata": {},
   "source": [
    "Tratamento da coluna 'Dia' do DataFrame como DateTime e depois converte em index."
   ]
  },
  {
   "cell_type": "code",
   "execution_count": null,
   "metadata": {},
   "outputs": [],
   "source": [
    "# Documentação:\n",
    "# https://pandas.pydata.org/docs/reference/api/pandas.read_csv.html\n",
    "\n",
    "df1 = pd.read_csv(\n",
    "    '../output/chuva_diaria_cpc_19910901_20221231.csv',\n",
    "    index_col='Dia', \n",
    "    parse_dates=True  \n",
    ")"
   ]
  },
  {
   "cell_type": "code",
   "execution_count": null,
   "metadata": {},
   "outputs": [],
   "source": [
    "#Outra possibilidade de tratar a coluna 'Dia' como DateTime e depois converter em index:\n",
    "# df1['Dia'] = pd.to_datetime(df1['Dia'])\n",
    "# df1.set_index('Dia', inplace=True)"
   ]
  },
  {
   "cell_type": "markdown",
   "metadata": {},
   "source": [
    "Inspeção do DataFrame."
   ]
  },
  {
   "cell_type": "code",
   "execution_count": null,
   "metadata": {},
   "outputs": [],
   "source": [
    "df1"
   ]
  },
  {
   "cell_type": "markdown",
   "metadata": {},
   "source": [
    "Plot básico do DataFrame."
   ]
  },
  {
   "cell_type": "code",
   "execution_count": null,
   "metadata": {},
   "outputs": [],
   "source": [
    "df1['Chuva'].plot() # Outra possibilidade: df.Chuva.plot()"
   ]
  },
  {
   "cell_type": "markdown",
   "metadata": {},
   "source": [
    "# Algumas transformações no DataFrame"
   ]
  },
  {
   "cell_type": "markdown",
   "metadata": {},
   "source": [
    "## Acumulado anual"
   ]
  },
  {
   "cell_type": "code",
   "execution_count": null,
   "metadata": {},
   "outputs": [],
   "source": [
    "# Acumulado mensal.\n",
    "chuva_acumulada = df1.resample('MS').sum()\n",
    "\n",
    "# Formata a data de forma a remover o dia.\n",
    "chuva_acumulada.index = chuva_acumulada.index.strftime('%Y-%m')\n",
    "\n",
    "# Renomeia o index de 'Dia' para 'Mes'.\n",
    "chuva_acumulada.index.name = 'Mes'\n",
    "\n",
    "chuva_acumulada"
   ]
  },
  {
   "cell_type": "code",
   "execution_count": null,
   "metadata": {},
   "outputs": [],
   "source": [
    "# Uso do reshape para organizar o dado no formato vetor para o formato tabular (linhas x colunas).\n",
    "# 32 = anos.\n",
    "# 12 = meses.\n",
    "\n",
    "dado_reshape = chuva_acumulada['Chuva'].values.reshape(32,12)\n",
    "\n",
    "# Nome dos rótulos das colunas.\n",
    "colunas = ['Jan', 'Fev', 'Mar', 'Abr', 'Mai', 'Jun', 'Jul', 'Ago', 'Set', 'Out', 'Nov', 'Dez']\n",
    "\n",
    "# Nome dos rótulos do index.\n",
    "index = range(1991, 2023)\n",
    "\n",
    "# Cria o DataFrame.\n",
    "df2 = pd.DataFrame(\n",
    "    data=dado_reshape, \n",
    "    index=index, \n",
    "    columns=colunas\n",
    ")\n",
    "\n",
    "df2"
   ]
  },
  {
   "cell_type": "code",
   "execution_count": null,
   "metadata": {},
   "outputs": [],
   "source": [
    "acumulado_anual = df2.sum(axis=1)\n",
    "\n",
    "df2['Total'] = acumulado_anual\n",
    "\n",
    "df2"
   ]
  },
  {
   "cell_type": "code",
   "execution_count": null,
   "metadata": {},
   "outputs": [],
   "source": [
    "# Valor médio anual de chuva;\n",
    "media_anual = df2['Total'].mean()\n",
    "\n",
    "media_anual"
   ]
  },
  {
   "cell_type": "code",
   "execution_count": null,
   "metadata": {},
   "outputs": [],
   "source": [
    "fig, ax = plt.subplots(figsize=(15,5))\n",
    "\n",
    "# Plot básico de chuva.\n",
    "df2['Total'].plot.bar()\n",
    "\n",
    "# Plota uma linha horizontal no valor da média anual.\n",
    "plt.axhline(y=media_anual, c='red')"
   ]
  }
 ],
 "metadata": {
  "kernelspec": {
   "display_name": "cbagro",
   "language": "python",
   "name": "python3"
  },
  "language_info": {
   "codemirror_mode": {
    "name": "ipython",
    "version": 3
   },
   "file_extension": ".py",
   "mimetype": "text/x-python",
   "name": "python",
   "nbconvert_exporter": "python",
   "pygments_lexer": "ipython3",
   "version": "3.9.12"
  },
  "orig_nbformat": 4
 },
 "nbformat": 4,
 "nbformat_minor": 2
}
