{
 "cells": [
  {
   "cell_type": "code",
   "execution_count": 28,
   "metadata": {},
   "outputs": [],
   "source": [
    "import pandas as pd"
   ]
  },
  {
   "cell_type": "code",
   "execution_count": 29,
   "metadata": {},
   "outputs": [],
   "source": [
    "import pandas as pd\n",
    "# Documentação:\n",
    "# https://pandas.pydata.org/docs/reference/api/pandas.read_csv.html\n",
    "\n",
    "df = pd.read_csv(\n",
    "    '../../output/chuva_diaria_cpc_19910901_20221231.csv',\n",
    "    index_col='Dia', \n",
    "    parse_dates=True  \n",
    ")"
   ]
  },
  {
   "cell_type": "code",
   "execution_count": 30,
   "metadata": {},
   "outputs": [
    {
     "data": {
      "text/html": [
       "<div>\n",
       "<style scoped>\n",
       "    .dataframe tbody tr th:only-of-type {\n",
       "        vertical-align: middle;\n",
       "    }\n",
       "\n",
       "    .dataframe tbody tr th {\n",
       "        vertical-align: top;\n",
       "    }\n",
       "\n",
       "    .dataframe thead th {\n",
       "        text-align: right;\n",
       "    }\n",
       "</style>\n",
       "<table border=\"1\" class=\"dataframe\">\n",
       "  <thead>\n",
       "    <tr style=\"text-align: right;\">\n",
       "      <th></th>\n",
       "      <th>Chuva</th>\n",
       "    </tr>\n",
       "    <tr>\n",
       "      <th>Dia</th>\n",
       "      <th></th>\n",
       "    </tr>\n",
       "  </thead>\n",
       "  <tbody>\n",
       "    <tr>\n",
       "      <th>1991-01-01</th>\n",
       "      <td>1.083005</td>\n",
       "    </tr>\n",
       "    <tr>\n",
       "      <th>1991-01-02</th>\n",
       "      <td>1.132334</td>\n",
       "    </tr>\n",
       "    <tr>\n",
       "      <th>1991-01-03</th>\n",
       "      <td>1.101605</td>\n",
       "    </tr>\n",
       "    <tr>\n",
       "      <th>1991-01-04</th>\n",
       "      <td>1.662441</td>\n",
       "    </tr>\n",
       "    <tr>\n",
       "      <th>1991-01-05</th>\n",
       "      <td>1.765939</td>\n",
       "    </tr>\n",
       "    <tr>\n",
       "      <th>...</th>\n",
       "      <td>...</td>\n",
       "    </tr>\n",
       "    <tr>\n",
       "      <th>2022-12-27</th>\n",
       "      <td>0.583862</td>\n",
       "    </tr>\n",
       "    <tr>\n",
       "      <th>2022-12-28</th>\n",
       "      <td>0.579153</td>\n",
       "    </tr>\n",
       "    <tr>\n",
       "      <th>2022-12-29</th>\n",
       "      <td>1.396807</td>\n",
       "    </tr>\n",
       "    <tr>\n",
       "      <th>2022-12-30</th>\n",
       "      <td>1.277998</td>\n",
       "    </tr>\n",
       "    <tr>\n",
       "      <th>2022-12-31</th>\n",
       "      <td>1.056591</td>\n",
       "    </tr>\n",
       "  </tbody>\n",
       "</table>\n",
       "<p>11688 rows × 1 columns</p>\n",
       "</div>"
      ],
      "text/plain": [
       "               Chuva\n",
       "Dia                 \n",
       "1991-01-01  1.083005\n",
       "1991-01-02  1.132334\n",
       "1991-01-03  1.101605\n",
       "1991-01-04  1.662441\n",
       "1991-01-05  1.765939\n",
       "...              ...\n",
       "2022-12-27  0.583862\n",
       "2022-12-28  0.579153\n",
       "2022-12-29  1.396807\n",
       "2022-12-30  1.277998\n",
       "2022-12-31  1.056591\n",
       "\n",
       "[11688 rows x 1 columns]"
      ]
     },
     "execution_count": 30,
     "metadata": {},
     "output_type": "execute_result"
    }
   ],
   "source": [
    "df"
   ]
  },
  {
   "cell_type": "code",
   "execution_count": 31,
   "metadata": {},
   "outputs": [
    {
     "data": {
      "text/html": [
       "<div>\n",
       "<style scoped>\n",
       "    .dataframe tbody tr th:only-of-type {\n",
       "        vertical-align: middle;\n",
       "    }\n",
       "\n",
       "    .dataframe tbody tr th {\n",
       "        vertical-align: top;\n",
       "    }\n",
       "\n",
       "    .dataframe thead th {\n",
       "        text-align: right;\n",
       "    }\n",
       "</style>\n",
       "<table border=\"1\" class=\"dataframe\">\n",
       "  <thead>\n",
       "    <tr style=\"text-align: right;\">\n",
       "      <th></th>\n",
       "      <th>Chuva</th>\n",
       "    </tr>\n",
       "    <tr>\n",
       "      <th>Dia</th>\n",
       "      <th></th>\n",
       "    </tr>\n",
       "  </thead>\n",
       "  <tbody>\n",
       "    <tr>\n",
       "      <th>1991-01-01</th>\n",
       "      <td>648.670719</td>\n",
       "    </tr>\n",
       "    <tr>\n",
       "      <th>1992-01-01</th>\n",
       "      <td>741.301761</td>\n",
       "    </tr>\n",
       "    <tr>\n",
       "      <th>1993-01-01</th>\n",
       "      <td>366.835639</td>\n",
       "    </tr>\n",
       "    <tr>\n",
       "      <th>1994-01-01</th>\n",
       "      <td>773.841206</td>\n",
       "    </tr>\n",
       "    <tr>\n",
       "      <th>1995-01-01</th>\n",
       "      <td>803.388304</td>\n",
       "    </tr>\n",
       "    <tr>\n",
       "      <th>1996-01-01</th>\n",
       "      <td>742.837349</td>\n",
       "    </tr>\n",
       "    <tr>\n",
       "      <th>1997-01-01</th>\n",
       "      <td>785.225591</td>\n",
       "    </tr>\n",
       "    <tr>\n",
       "      <th>1998-01-01</th>\n",
       "      <td>479.360757</td>\n",
       "    </tr>\n",
       "    <tr>\n",
       "      <th>1999-01-01</th>\n",
       "      <td>777.132795</td>\n",
       "    </tr>\n",
       "    <tr>\n",
       "      <th>2000-01-01</th>\n",
       "      <td>882.708469</td>\n",
       "    </tr>\n",
       "    <tr>\n",
       "      <th>2001-01-01</th>\n",
       "      <td>578.193136</td>\n",
       "    </tr>\n",
       "    <tr>\n",
       "      <th>2002-01-01</th>\n",
       "      <td>790.079180</td>\n",
       "    </tr>\n",
       "    <tr>\n",
       "      <th>2003-01-01</th>\n",
       "      <td>649.457829</td>\n",
       "    </tr>\n",
       "    <tr>\n",
       "      <th>2004-01-01</th>\n",
       "      <td>926.307068</td>\n",
       "    </tr>\n",
       "    <tr>\n",
       "      <th>2005-01-01</th>\n",
       "      <td>750.426095</td>\n",
       "    </tr>\n",
       "    <tr>\n",
       "      <th>2006-01-01</th>\n",
       "      <td>988.312174</td>\n",
       "    </tr>\n",
       "    <tr>\n",
       "      <th>2007-01-01</th>\n",
       "      <td>754.975759</td>\n",
       "    </tr>\n",
       "    <tr>\n",
       "      <th>2008-01-01</th>\n",
       "      <td>857.371683</td>\n",
       "    </tr>\n",
       "    <tr>\n",
       "      <th>2009-01-01</th>\n",
       "      <td>1002.290470</td>\n",
       "    </tr>\n",
       "    <tr>\n",
       "      <th>2010-01-01</th>\n",
       "      <td>728.047233</td>\n",
       "    </tr>\n",
       "    <tr>\n",
       "      <th>2011-01-01</th>\n",
       "      <td>847.691601</td>\n",
       "    </tr>\n",
       "    <tr>\n",
       "      <th>2012-01-01</th>\n",
       "      <td>368.225093</td>\n",
       "    </tr>\n",
       "    <tr>\n",
       "      <th>2013-01-01</th>\n",
       "      <td>610.101496</td>\n",
       "    </tr>\n",
       "    <tr>\n",
       "      <th>2014-01-01</th>\n",
       "      <td>590.357216</td>\n",
       "    </tr>\n",
       "    <tr>\n",
       "      <th>2015-01-01</th>\n",
       "      <td>454.965367</td>\n",
       "    </tr>\n",
       "    <tr>\n",
       "      <th>2016-01-01</th>\n",
       "      <td>575.974518</td>\n",
       "    </tr>\n",
       "    <tr>\n",
       "      <th>2017-01-01</th>\n",
       "      <td>547.925241</td>\n",
       "    </tr>\n",
       "    <tr>\n",
       "      <th>2018-01-01</th>\n",
       "      <td>694.413281</td>\n",
       "    </tr>\n",
       "    <tr>\n",
       "      <th>2019-01-01</th>\n",
       "      <td>576.316229</td>\n",
       "    </tr>\n",
       "    <tr>\n",
       "      <th>2020-01-01</th>\n",
       "      <td>808.988789</td>\n",
       "    </tr>\n",
       "    <tr>\n",
       "      <th>2021-01-01</th>\n",
       "      <td>701.497040</td>\n",
       "    </tr>\n",
       "    <tr>\n",
       "      <th>2022-01-01</th>\n",
       "      <td>897.428308</td>\n",
       "    </tr>\n",
       "  </tbody>\n",
       "</table>\n",
       "</div>"
      ],
      "text/plain": [
       "                  Chuva\n",
       "Dia                    \n",
       "1991-01-01   648.670719\n",
       "1992-01-01   741.301761\n",
       "1993-01-01   366.835639\n",
       "1994-01-01   773.841206\n",
       "1995-01-01   803.388304\n",
       "1996-01-01   742.837349\n",
       "1997-01-01   785.225591\n",
       "1998-01-01   479.360757\n",
       "1999-01-01   777.132795\n",
       "2000-01-01   882.708469\n",
       "2001-01-01   578.193136\n",
       "2002-01-01   790.079180\n",
       "2003-01-01   649.457829\n",
       "2004-01-01   926.307068\n",
       "2005-01-01   750.426095\n",
       "2006-01-01   988.312174\n",
       "2007-01-01   754.975759\n",
       "2008-01-01   857.371683\n",
       "2009-01-01  1002.290470\n",
       "2010-01-01   728.047233\n",
       "2011-01-01   847.691601\n",
       "2012-01-01   368.225093\n",
       "2013-01-01   610.101496\n",
       "2014-01-01   590.357216\n",
       "2015-01-01   454.965367\n",
       "2016-01-01   575.974518\n",
       "2017-01-01   547.925241\n",
       "2018-01-01   694.413281\n",
       "2019-01-01   576.316229\n",
       "2020-01-01   808.988789\n",
       "2021-01-01   701.497040\n",
       "2022-01-01   897.428308"
      ]
     },
     "execution_count": 31,
     "metadata": {},
     "output_type": "execute_result"
    }
   ],
   "source": [
    "acumulado_anual = df.resample('YS').sum()\n",
    "\n",
    "acumulado_anual"
   ]
  },
  {
   "cell_type": "code",
   "execution_count": 32,
   "metadata": {},
   "outputs": [
    {
     "data": {
      "text/plain": [
       "DatetimeIndex(['1991-01-01', '1992-01-01', '1993-01-01', '1994-01-01',\n",
       "               '1995-01-01', '1996-01-01', '1997-01-01', '1998-01-01',\n",
       "               '1999-01-01', '2000-01-01', '2001-01-01', '2002-01-01',\n",
       "               '2003-01-01', '2004-01-01', '2005-01-01', '2006-01-01',\n",
       "               '2007-01-01', '2008-01-01', '2009-01-01', '2010-01-01',\n",
       "               '2011-01-01', '2012-01-01', '2013-01-01', '2014-01-01',\n",
       "               '2015-01-01', '2016-01-01', '2017-01-01', '2018-01-01',\n",
       "               '2019-01-01', '2020-01-01', '2021-01-01', '2022-01-01'],\n",
       "              dtype='datetime64[ns]', name='Dia', freq='AS-JAN')"
      ]
     },
     "execution_count": 32,
     "metadata": {},
     "output_type": "execute_result"
    }
   ],
   "source": [
    "acumulado_anual.index"
   ]
  },
  {
   "cell_type": "code",
   "execution_count": 33,
   "metadata": {},
   "outputs": [
    {
     "data": {
      "text/plain": [
       "<AxesSubplot:xlabel='Dia'>"
      ]
     },
     "execution_count": 33,
     "metadata": {},
     "output_type": "execute_result"
    },
    {
     "data": {
      "image/png": "[encoded data removed]",
      "text/plain": [
       "<Figure size 432x288 with 1 Axes>"
      ]
     },
     "metadata": {
      "needs_background": "light"
     },
     "output_type": "display_data"
    }
   ],
   "source": [
    "acumulado_anual['Chuva'].plot.bar()"
   ]
  },
  {
   "cell_type": "code",
   "execution_count": 34,
   "metadata": {},
   "outputs": [],
   "source": [
    "acumulado_anual.index = acumulado_anual.index.strftime('%Y')"
   ]
  },
  {
   "cell_type": "code",
   "execution_count": 35,
   "metadata": {},
   "outputs": [
    {
     "data": {
      "text/plain": [
       "<AxesSubplot:xlabel='Dia'>"
      ]
     },
     "execution_count": 35,
     "metadata": {},
     "output_type": "execute_result"
    },
    {
     "data": {
      "image/png": "[encoded data removed]",
      "text/plain": [
       "<Figure size 432x288 with 1 Axes>"
      ]
     },
     "metadata": {
      "needs_background": "light"
     },
     "output_type": "display_data"
    }
   ],
   "source": [
    "acumulado_anual['Chuva'].plot.bar()"
   ]
  }
 ],
 "metadata": {
  "kernelspec": {
   "display_name": "cbagro",
   "language": "python",
   "name": "python3"
  },
  "language_info": {
   "codemirror_mode": {
    "name": "ipython",
    "version": 3
   },
   "file_extension": ".py",
   "mimetype": "text/x-python",
   "name": "python",
   "nbconvert_exporter": "python",
   "pygments_lexer": "ipython3",
   "version": "3.9.12"
  }
 },
 "nbformat": 4,
 "nbformat_minor": 2
}
