{
 "cells": [
  {
   "cell_type": "markdown",
   "metadata": {},
   "source": [
    "# Aplicação de Python na Agrometeorologia\n",
    "\n",
    "Este Jupyter Notebook é parte integrande do curso de Python ministrado durante XXII Congresso Brasiliero de Agrometeorologia realizado nos dias 3, 4 e 5 de outubro de 2023 na cidade Natal/RN."
   ]
  },
  {
   "cell_type": "markdown",
   "metadata": {},
   "source": [
    "# Uso de funções em Python"
   ]
  },
  {
   "cell_type": "code",
   "execution_count": 1,
   "metadata": {},
   "outputs": [],
   "source": [
    "import xarray as xr\n",
    "import regionmask\n",
    "import geopandas as gpd\n",
    "import pandas as pd\n",
    "\n",
    "def processa_chuva(lista_arquivos, nome_variavel, nome_dimensao_lat, nome_dimensao_lon, arquivo_shapefile, nome_arquivo_csv):\n",
    "    \n",
    "    # Abertura dos arquivos NetCDF.\n",
    "    ds = xr.open_mfdataset(lista_arquivos)\n",
    "    \n",
    "    # Importação de variáveis de interesse.\n",
    "    prec = ds[nome_variavel]\n",
    "    lat = ds[nome_dimensao_lat]\n",
    "    lon = ds[nome_dimensao_lon]\n",
    "    \n",
    "    # Abertura do arquivo shapefile.\n",
    "    gdf = gpd.read_file(arquivo_shapefile)\n",
    "    \n",
    "    # Domínio espacial do arquivo shapefile.\n",
    "    dominio_shapefile = regionmask.Regions(\n",
    "        outlines=gdf.geometry.values,\n",
    "        numbers=[0],\n",
    "        names={0:'Bioma Caatinga'},\n",
    "        abbrevs={0:'Caatinga'},\n",
    "        name='Bioma_Caatinga', \n",
    "    )\n",
    "    \n",
    "    # Cria a máscara que será aplicada na variável de interesse.\n",
    "    # lon e lat são os valores das suas coordenadas.\n",
    "    mascara = dominio_shapefile.mask(lon_or_obj=lon, lat=lat)\n",
    "    \n",
    "    # Aplica a máscara na variável de interesse.\n",
    "    dado_mascarado = prec.where(mascara == mascara)\n",
    "    \n",
    "    # Os nomes 'lat' e 'lon são os nomes que aparecem no seu arquivo. \n",
    "    # Não são os valores de 'lat' e nem de 'lon'.\n",
    "    media_area = dado_mascarado.mean(dim=('lat', 'lon'))\n",
    "    \n",
    "    # Cria o DataFrame.\n",
    "    df = pd.DataFrame(data=media_area, index=prec.time, columns=['Chuva'])\n",
    "    \n",
    "    # Define o nome do index como 'Dia'.\n",
    "    df.index.name = 'Dia'\n",
    "    \n",
    "    # Salva o arquivo no formato 'csv'.\n",
    "    df.to_csv(\n",
    "        nome_arquivo_csv, \n",
    "        sep=',', \n",
    "        header=True\n",
    "    )\n",
    "    \n",
    "    return df"
   ]
  },
  {
   "cell_type": "markdown",
   "metadata": {},
   "source": [
    "# Como chamar a função?\n",
    "\n",
    "A função gera o arquivo no formato csv e retorna o dataframe (df) para gerar uma figura, por exemplo."
   ]
  },
  {
   "cell_type": "code",
   "execution_count": 2,
   "metadata": {},
   "outputs": [],
   "source": [
    "chuva = processa_chuva(\n",
    "    lista_arquivos='../input/precipitacao/CPC/precip.????.nc', \n",
    "    nome_variavel='precip', \n",
    "    nome_dimensao_lat='lat', \n",
    "    nome_dimensao_lon='lon', \n",
    "    arquivo_shapefile='../input/shapefile/caatinga_contorno/caatinga.shp',\n",
    "    nome_arquivo_csv='../output/xchuva_diaria_cpc_19910901_20221231.csv'\n",
    ")"
   ]
  },
  {
   "cell_type": "code",
   "execution_count": 3,
   "metadata": {},
   "outputs": [
    {
     "data": {
      "text/html": [
       "<div>\n",
       "<style scoped>\n",
       "    .dataframe tbody tr th:only-of-type {\n",
       "        vertical-align: middle;\n",
       "    }\n",
       "\n",
       "    .dataframe tbody tr th {\n",
       "        vertical-align: top;\n",
       "    }\n",
       "\n",
       "    .dataframe thead th {\n",
       "        text-align: right;\n",
       "    }\n",
       "</style>\n",
       "<table border=\"1\" class=\"dataframe\">\n",
       "  <thead>\n",
       "    <tr style=\"text-align: right;\">\n",
       "      <th></th>\n",
       "      <th>Chuva</th>\n",
       "    </tr>\n",
       "    <tr>\n",
       "      <th>Dia</th>\n",
       "      <th></th>\n",
       "    </tr>\n",
       "  </thead>\n",
       "  <tbody>\n",
       "    <tr>\n",
       "      <th>1991-01-01</th>\n",
       "      <td>1.083005</td>\n",
       "    </tr>\n",
       "    <tr>\n",
       "      <th>1991-01-02</th>\n",
       "      <td>1.132334</td>\n",
       "    </tr>\n",
       "    <tr>\n",
       "      <th>1991-01-03</th>\n",
       "      <td>1.101605</td>\n",
       "    </tr>\n",
       "    <tr>\n",
       "      <th>1991-01-04</th>\n",
       "      <td>1.662441</td>\n",
       "    </tr>\n",
       "    <tr>\n",
       "      <th>1991-01-05</th>\n",
       "      <td>1.765939</td>\n",
       "    </tr>\n",
       "    <tr>\n",
       "      <th>...</th>\n",
       "      <td>...</td>\n",
       "    </tr>\n",
       "    <tr>\n",
       "      <th>2022-12-27</th>\n",
       "      <td>0.583862</td>\n",
       "    </tr>\n",
       "    <tr>\n",
       "      <th>2022-12-28</th>\n",
       "      <td>0.579153</td>\n",
       "    </tr>\n",
       "    <tr>\n",
       "      <th>2022-12-29</th>\n",
       "      <td>1.396807</td>\n",
       "    </tr>\n",
       "    <tr>\n",
       "      <th>2022-12-30</th>\n",
       "      <td>1.277998</td>\n",
       "    </tr>\n",
       "    <tr>\n",
       "      <th>2022-12-31</th>\n",
       "      <td>1.056591</td>\n",
       "    </tr>\n",
       "  </tbody>\n",
       "</table>\n",
       "<p>11688 rows × 1 columns</p>\n",
       "</div>"
      ],
      "text/plain": [
       "               Chuva\n",
       "Dia                 \n",
       "1991-01-01  1.083005\n",
       "1991-01-02  1.132334\n",
       "1991-01-03  1.101605\n",
       "1991-01-04  1.662441\n",
       "1991-01-05  1.765939\n",
       "...              ...\n",
       "2022-12-27  0.583862\n",
       "2022-12-28  0.579153\n",
       "2022-12-29  1.396807\n",
       "2022-12-30  1.277998\n",
       "2022-12-31  1.056591\n",
       "\n",
       "[11688 rows x 1 columns]"
      ]
     },
     "execution_count": 3,
     "metadata": {},
     "output_type": "execute_result"
    }
   ],
   "source": [
    "chuva"
   ]
  },
  {
   "cell_type": "code",
   "execution_count": 4,
   "metadata": {},
   "outputs": [
    {
     "data": {
      "text/plain": [
       "<AxesSubplot:xlabel='Dia'>"
      ]
     },
     "execution_count": 4,
     "metadata": {},
     "output_type": "execute_result"
    },
    {
     "data": {
      "image/png": "[encoded data removed]",
      "text/plain": [
       "<Figure size 432x288 with 1 Axes>"
      ]
     },
     "metadata": {
      "needs_background": "light"
     },
     "output_type": "display_data"
    }
   ],
   "source": [
    "chuva.plot()"
   ]
  }
 ],
 "metadata": {
  "kernelspec": {
   "display_name": "cbagro",
   "language": "python",
   "name": "python3"
  },
  "language_info": {
   "codemirror_mode": {
    "name": "ipython",
    "version": 3
   },
   "file_extension": ".py",
   "mimetype": "text/x-python",
   "name": "python",
   "nbconvert_exporter": "python",
   "pygments_lexer": "ipython3",
   "version": "3.9.12"
  },
  "orig_nbformat": 4
 },
 "nbformat": 4,
 "nbformat_minor": 2
}
