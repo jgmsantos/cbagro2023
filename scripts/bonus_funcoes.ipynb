{
 "cells": [
  {
   "cell_type": "markdown",
   "metadata": {},
   "source": [
    "# Aplicação de Python na Agrometeorologia\n",
    "\n",
    "Este Jupyter Notebook é parte integrande do curso de Python ministrado durante XXII Congresso Brasiliero de Agrometeorologia realizado nos dias 3, 4 e 5 de outubro de 2023 na cidade Natal/RN."
   ]
  },
  {
   "cell_type": "markdown",
   "metadata": {},
   "source": [
    "# Uso de funções em Python"
   ]
  },
  {
   "cell_type": "code",
   "execution_count": 3,
   "metadata": {},
   "outputs": [],
   "source": [
    "import xarray as xr\n",
    "import regionmask\n",
    "import geopandas as gpd\n",
    "import pandas as pd\n",
    "\n",
    "def processa_chuva(lista_arquivos, nome_variavel, nome_dimensao_lat, nome_dimensao_lon, arquivo_shapefile, nome_arquivo_csv):\n",
    "    \n",
    "    # Abertura dos arquivos NetCDF.\n",
    "    ds = xr.open_mfdataset(lista_arquivos)\n",
    "    \n",
    "    # Importação de variáveis de interesse.\n",
    "    prec = ds[nome_variavel]\n",
    "    lat = ds[nome_dimensao_lat]\n",
    "    lon = ds[nome_dimensao_lon]\n",
    "    \n",
    "    # Abertura do arquivo shapefile.\n",
    "    gdf = gpd.read_file(arquivo_shapefile)\n",
    "    \n",
    "    # Domínio espacial do arquivo shapefile.\n",
    "    dominio_shapefile = regionmask.Regions(\n",
    "        outlines=gdf.geometry.values,\n",
    "        numbers=[0],\n",
    "        names={0:'Bioma Caatinga'},\n",
    "        abbrevs={0:'Caatinga'},\n",
    "        name='Bioma_Caatinga', \n",
    "    )\n",
    "    \n",
    "    # Cria a máscara que será aplicada na variável de interesse.\n",
    "    # lon e lat são os valores das suas coordenadas.\n",
    "    mascara = dominio_shapefile.mask(lon_or_obj=lon, lat=lat)\n",
    "    \n",
    "    # Aplica a máscara na variável de interesse.\n",
    "    dado_mascarado = prec.where(mascara == mascara)\n",
    "    \n",
    "    # Os nomes 'lat' e 'lon são os nomes que aparecem no seu arquivo. \n",
    "    # Não são os valores de 'lat' e nem de 'lon'.\n",
    "    media_area = dado_mascarado.mean(dim=('lat', 'lon'))\n",
    "    \n",
    "    # Cria o DataFrame.\n",
    "    df = pd.DataFrame(data=media_area, index=prec.time, columns=['Chuva'])\n",
    "    \n",
    "    # Define o nome do index como 'Dia'.\n",
    "    df.index.name = 'Dia'\n",
    "    \n",
    "    # Salva o arquivo no formato 'csv'.\n",
    "    df.to_csv(\n",
    "        nome_arquivo_csv, \n",
    "        sep=',', \n",
    "        header=True\n",
    "    )\n",
    "    \n",
    "    return df"
   ]
  },
  {
   "cell_type": "markdown",
   "metadata": {},
   "source": [
    "# Como chamar a função?\n",
    "\n",
    "A função gera o arquivo no formato csv e retorna o dataframe (df) para gerar uma figura, por exemplo."
   ]
  },
  {
   "cell_type": "code",
   "execution_count": 5,
   "metadata": {},
   "outputs": [],
   "source": [
    "chuva = processa_chuva(\n",
    "    lista_arquivos='../input/precipitacao/CPC/precip.????.nc', \n",
    "    nome_variavel='precip', \n",
    "    nome_dimensao_lat='lat', \n",
    "    nome_dimensao_lon='lon', \n",
    "    arquivo_shapefile='../input/shapefile/caatinga_contorno/caatinga.shp',\n",
    "    nome_arquivo_csv='../output/xchuva_diaria_cpc_19910901_20221231.csv'\n",
    ")"
   ]
  }
 ],
 "metadata": {
  "kernelspec": {
   "display_name": "cbagro",
   "language": "python",
   "name": "python3"
  },
  "language_info": {
   "codemirror_mode": {
    "name": "ipython",
    "version": 3
   },
   "file_extension": ".py",
   "mimetype": "text/x-python",
   "name": "python",
   "nbconvert_exporter": "python",
   "pygments_lexer": "ipython3",
   "version": "3.9.12"
  },
  "orig_nbformat": 4
 },
 "nbformat": 4,
 "nbformat_minor": 2
}
