{
 "cells": [
  {
   "cell_type": "markdown",
   "metadata": {},
   "source": [
    "# Aplicação de Python na Agrometeorologia\n",
    "\n",
    "Este Jupyter Notebook é parte integrande do curso de Python ministrado durante XXII Congresso Brasiliero de Agrometeorologia realizado nos dias 3, 4 e 5 de outubro de 2023 na cidade Natal/RN."
   ]
  },
  {
   "cell_type": "markdown",
   "metadata": {},
   "source": [
    "# Importação de bibliotecas"
   ]
  },
  {
   "cell_type": "code",
   "execution_count": 1,
   "metadata": {},
   "outputs": [],
   "source": [
    "import pandas as pd"
   ]
  },
  {
   "cell_type": "markdown",
   "metadata": {},
   "source": [
    "# Abertura do arquivo csv"
   ]
  },
  {
   "cell_type": "markdown",
   "metadata": {},
   "source": [
    "Tratamento da coluna 'Dia' do DataFrame como DateTime e depois converte em index."
   ]
  },
  {
   "cell_type": "code",
   "execution_count": 19,
   "metadata": {},
   "outputs": [],
   "source": [
    "# Documentação:\n",
    "# https://pandas.pydata.org/docs/reference/api/pandas.read_csv.html\n",
    "\n",
    "df = pd.read_csv(\n",
    "    '../output/chuva_diaria_cpc_19910901_20221231.csv',\n",
    "    index_col='Dia', \n",
    "    parse_dates=True  \n",
    ")"
   ]
  },
  {
   "cell_type": "code",
   "execution_count": 3,
   "metadata": {},
   "outputs": [],
   "source": [
    "#Outra possibilidade de tratar a coluna 'Dia' como DateTime e depois converter em index:\n",
    "# df['Dia'] = pd.to_datetime(df['Dia'])\n",
    "# df.set_index('Dia', inplace=True)"
   ]
  },
  {
   "cell_type": "markdown",
   "metadata": {},
   "source": [
    "Inspeção do DataFrame."
   ]
  },
  {
   "cell_type": "code",
   "execution_count": 4,
   "metadata": {},
   "outputs": [
    {
     "data": {
      "text/html": [
       "<div>\n",
       "<style scoped>\n",
       "    .dataframe tbody tr th:only-of-type {\n",
       "        vertical-align: middle;\n",
       "    }\n",
       "\n",
       "    .dataframe tbody tr th {\n",
       "        vertical-align: top;\n",
       "    }\n",
       "\n",
       "    .dataframe thead th {\n",
       "        text-align: right;\n",
       "    }\n",
       "</style>\n",
       "<table border=\"1\" class=\"dataframe\">\n",
       "  <thead>\n",
       "    <tr style=\"text-align: right;\">\n",
       "      <th></th>\n",
       "      <th>Chuva</th>\n",
       "    </tr>\n",
       "    <tr>\n",
       "      <th>Dia</th>\n",
       "      <th></th>\n",
       "    </tr>\n",
       "  </thead>\n",
       "  <tbody>\n",
       "    <tr>\n",
       "      <th>1991-01-01</th>\n",
       "      <td>1.083005</td>\n",
       "    </tr>\n",
       "    <tr>\n",
       "      <th>1991-01-02</th>\n",
       "      <td>1.132334</td>\n",
       "    </tr>\n",
       "    <tr>\n",
       "      <th>1991-01-03</th>\n",
       "      <td>1.101605</td>\n",
       "    </tr>\n",
       "    <tr>\n",
       "      <th>1991-01-04</th>\n",
       "      <td>1.662441</td>\n",
       "    </tr>\n",
       "    <tr>\n",
       "      <th>1991-01-05</th>\n",
       "      <td>1.765939</td>\n",
       "    </tr>\n",
       "    <tr>\n",
       "      <th>...</th>\n",
       "      <td>...</td>\n",
       "    </tr>\n",
       "    <tr>\n",
       "      <th>2022-12-27</th>\n",
       "      <td>0.583862</td>\n",
       "    </tr>\n",
       "    <tr>\n",
       "      <th>2022-12-28</th>\n",
       "      <td>0.579153</td>\n",
       "    </tr>\n",
       "    <tr>\n",
       "      <th>2022-12-29</th>\n",
       "      <td>1.396807</td>\n",
       "    </tr>\n",
       "    <tr>\n",
       "      <th>2022-12-30</th>\n",
       "      <td>1.277998</td>\n",
       "    </tr>\n",
       "    <tr>\n",
       "      <th>2022-12-31</th>\n",
       "      <td>1.056591</td>\n",
       "    </tr>\n",
       "  </tbody>\n",
       "</table>\n",
       "<p>11688 rows × 1 columns</p>\n",
       "</div>"
      ],
      "text/plain": [
       "               Chuva\n",
       "Dia                 \n",
       "1991-01-01  1.083005\n",
       "1991-01-02  1.132334\n",
       "1991-01-03  1.101605\n",
       "1991-01-04  1.662441\n",
       "1991-01-05  1.765939\n",
       "...              ...\n",
       "2022-12-27  0.583862\n",
       "2022-12-28  0.579153\n",
       "2022-12-29  1.396807\n",
       "2022-12-30  1.277998\n",
       "2022-12-31  1.056591\n",
       "\n",
       "[11688 rows x 1 columns]"
      ]
     },
     "execution_count": 4,
     "metadata": {},
     "output_type": "execute_result"
    }
   ],
   "source": [
    "df"
   ]
  },
  {
   "cell_type": "markdown",
   "metadata": {},
   "source": [
    "Plot básico do DataFrame."
   ]
  },
  {
   "cell_type": "code",
   "execution_count": 5,
   "metadata": {},
   "outputs": [
    {
     "data": {
      "text/plain": [
       "<AxesSubplot:xlabel='Dia'>"
      ]
     },
     "execution_count": 5,
     "metadata": {},
     "output_type": "execute_result"
    },
    {
     "data": {
      "image/png": "[encoded data removed]",
      "text/plain": [
       "<Figure size 432x288 with 1 Axes>"
      ]
     },
     "metadata": {
      "needs_background": "light"
     },
     "output_type": "display_data"
    }
   ],
   "source": [
    "df['Chuva'].plot() # Outra possibilidade: df.Chuva.plot()"
   ]
  },
  {
   "cell_type": "markdown",
   "metadata": {},
   "source": [
    "# Algumas transformações no DataFrame"
   ]
  },
  {
   "cell_type": "markdown",
   "metadata": {},
   "source": [
    "## Compartimentalização (binning) - Histograma"
   ]
  },
  {
   "cell_type": "markdown",
   "metadata": {},
   "source": [
    "Como saber qual é o máximo valor de bins a serem utilizados? Basta usar o **describe()**."
   ]
  },
  {
   "cell_type": "code",
   "execution_count": 6,
   "metadata": {},
   "outputs": [
    {
     "data": {
      "text/html": [
       "<div>\n",
       "<style scoped>\n",
       "    .dataframe tbody tr th:only-of-type {\n",
       "        vertical-align: middle;\n",
       "    }\n",
       "\n",
       "    .dataframe tbody tr th {\n",
       "        vertical-align: top;\n",
       "    }\n",
       "\n",
       "    .dataframe thead th {\n",
       "        text-align: right;\n",
       "    }\n",
       "</style>\n",
       "<table border=\"1\" class=\"dataframe\">\n",
       "  <thead>\n",
       "    <tr style=\"text-align: right;\">\n",
       "      <th></th>\n",
       "      <th>Chuva</th>\n",
       "    </tr>\n",
       "  </thead>\n",
       "  <tbody>\n",
       "    <tr>\n",
       "      <th>count</th>\n",
       "      <td>11687.000000</td>\n",
       "    </tr>\n",
       "    <tr>\n",
       "      <th>mean</th>\n",
       "      <td>1.942384</td>\n",
       "    </tr>\n",
       "    <tr>\n",
       "      <th>std</th>\n",
       "      <td>2.798179</td>\n",
       "    </tr>\n",
       "    <tr>\n",
       "      <th>min</th>\n",
       "      <td>0.000000</td>\n",
       "    </tr>\n",
       "    <tr>\n",
       "      <th>25%</th>\n",
       "      <td>0.260504</td>\n",
       "    </tr>\n",
       "    <tr>\n",
       "      <th>50%</th>\n",
       "      <td>0.857347</td>\n",
       "    </tr>\n",
       "    <tr>\n",
       "      <th>75%</th>\n",
       "      <td>2.442850</td>\n",
       "    </tr>\n",
       "    <tr>\n",
       "      <th>max</th>\n",
       "      <td>31.495855</td>\n",
       "    </tr>\n",
       "  </tbody>\n",
       "</table>\n",
       "</div>"
      ],
      "text/plain": [
       "              Chuva\n",
       "count  11687.000000\n",
       "mean       1.942384\n",
       "std        2.798179\n",
       "min        0.000000\n",
       "25%        0.260504\n",
       "50%        0.857347\n",
       "75%        2.442850\n",
       "max       31.495855"
      ]
     },
     "execution_count": 6,
     "metadata": {},
     "output_type": "execute_result"
    }
   ],
   "source": [
    "df.describe()"
   ]
  },
  {
   "cell_type": "code",
   "execution_count": 7,
   "metadata": {},
   "outputs": [],
   "source": [
    "# Documentação:\n",
    "# https://pandas.pydata.org/docs/reference/api/pandas.cut.html\n",
    "\n",
    "# Intervalos de interesse em mm/dia.\n",
    "bins1 = [0, 2.5, 7.6, 15, 30, 50, 75, 100]\n",
    "\n",
    "# Cria o histograma.\n",
    "chuva1 = pd.cut(\n",
    "    df['Chuva'], \n",
    "    bins1\n",
    ")"
   ]
  },
  {
   "cell_type": "code",
   "execution_count": 8,
   "metadata": {},
   "outputs": [
    {
     "data": {
      "text/plain": [
       "Dia\n",
       "1991-01-01    (0.0, 2.5]\n",
       "1991-01-02    (0.0, 2.5]\n",
       "1991-01-03    (0.0, 2.5]\n",
       "1991-01-04    (0.0, 2.5]\n",
       "1991-01-05    (0.0, 2.5]\n",
       "                 ...    \n",
       "2022-12-27    (0.0, 2.5]\n",
       "2022-12-28    (0.0, 2.5]\n",
       "2022-12-29    (0.0, 2.5]\n",
       "2022-12-30    (0.0, 2.5]\n",
       "2022-12-31    (0.0, 2.5]\n",
       "Name: Chuva, Length: 11688, dtype: category\n",
       "Categories (7, interval[float64, right]): [(0.0, 2.5] < (2.5, 7.6] < (7.6, 15.0] < (15.0, 30.0] < (30.0, 50.0] < (50.0, 75.0] < (75.0, 100.0]]"
      ]
     },
     "execution_count": 8,
     "metadata": {},
     "output_type": "execute_result"
    }
   ],
   "source": [
    "chuva1"
   ]
  },
  {
   "cell_type": "markdown",
   "metadata": {},
   "source": [
    "Contagem das categorias"
   ]
  },
  {
   "cell_type": "code",
   "execution_count": 9,
   "metadata": {},
   "outputs": [
    {
     "data": {
      "text/plain": [
       "Chuva\n",
       "(0.0, 2.5]       8809\n",
       "(2.5, 7.6]       2268\n",
       "(7.6, 15.0]       513\n",
       "(15.0, 30.0]       68\n",
       "(30.0, 50.0]        1\n",
       "(50.0, 75.0]        0\n",
       "(75.0, 100.0]       0\n",
       "Name: count, dtype: int64"
      ]
     },
     "execution_count": 9,
     "metadata": {},
     "output_type": "execute_result"
    }
   ],
   "source": [
    "pd.value_counts(chuva1)"
   ]
  },
  {
   "cell_type": "markdown",
   "metadata": {},
   "source": [
    "Plot do histograma com suas classes."
   ]
  },
  {
   "cell_type": "code",
   "execution_count": 10,
   "metadata": {},
   "outputs": [
    {
     "data": {
      "text/plain": [
       "<AxesSubplot:xlabel='Chuva'>"
      ]
     },
     "execution_count": 10,
     "metadata": {},
     "output_type": "execute_result"
    },
    {
     "data": {
      "image/png": "[encoded data removed]",
      "text/plain": [
       "<Figure size 1080x360 with 1 Axes>"
      ]
     },
     "metadata": {
      "needs_background": "light"
     },
     "output_type": "display_data"
    }
   ],
   "source": [
    "pd.value_counts(chuva1).plot.bar(figsize=(15,5))"
   ]
  },
  {
   "cell_type": "markdown",
   "metadata": {},
   "source": [
    "Cria a coluna **bin** e adiciona os intervalos do histograma no DataFrame."
   ]
  },
  {
   "cell_type": "code",
   "execution_count": 11,
   "metadata": {},
   "outputs": [
    {
     "data": {
      "text/html": [
       "<div>\n",
       "<style scoped>\n",
       "    .dataframe tbody tr th:only-of-type {\n",
       "        vertical-align: middle;\n",
       "    }\n",
       "\n",
       "    .dataframe tbody tr th {\n",
       "        vertical-align: top;\n",
       "    }\n",
       "\n",
       "    .dataframe thead th {\n",
       "        text-align: right;\n",
       "    }\n",
       "</style>\n",
       "<table border=\"1\" class=\"dataframe\">\n",
       "  <thead>\n",
       "    <tr style=\"text-align: right;\">\n",
       "      <th></th>\n",
       "      <th>Chuva</th>\n",
       "      <th>bin</th>\n",
       "    </tr>\n",
       "    <tr>\n",
       "      <th>Dia</th>\n",
       "      <th></th>\n",
       "      <th></th>\n",
       "    </tr>\n",
       "  </thead>\n",
       "  <tbody>\n",
       "    <tr>\n",
       "      <th>1991-01-01</th>\n",
       "      <td>1.083005</td>\n",
       "      <td>(0.0, 2.5]</td>\n",
       "    </tr>\n",
       "    <tr>\n",
       "      <th>1991-01-02</th>\n",
       "      <td>1.132334</td>\n",
       "      <td>(0.0, 2.5]</td>\n",
       "    </tr>\n",
       "    <tr>\n",
       "      <th>1991-01-03</th>\n",
       "      <td>1.101605</td>\n",
       "      <td>(0.0, 2.5]</td>\n",
       "    </tr>\n",
       "    <tr>\n",
       "      <th>1991-01-04</th>\n",
       "      <td>1.662441</td>\n",
       "      <td>(0.0, 2.5]</td>\n",
       "    </tr>\n",
       "    <tr>\n",
       "      <th>1991-01-05</th>\n",
       "      <td>1.765939</td>\n",
       "      <td>(0.0, 2.5]</td>\n",
       "    </tr>\n",
       "    <tr>\n",
       "      <th>...</th>\n",
       "      <td>...</td>\n",
       "      <td>...</td>\n",
       "    </tr>\n",
       "    <tr>\n",
       "      <th>2022-12-27</th>\n",
       "      <td>0.583862</td>\n",
       "      <td>(0.0, 2.5]</td>\n",
       "    </tr>\n",
       "    <tr>\n",
       "      <th>2022-12-28</th>\n",
       "      <td>0.579153</td>\n",
       "      <td>(0.0, 2.5]</td>\n",
       "    </tr>\n",
       "    <tr>\n",
       "      <th>2022-12-29</th>\n",
       "      <td>1.396807</td>\n",
       "      <td>(0.0, 2.5]</td>\n",
       "    </tr>\n",
       "    <tr>\n",
       "      <th>2022-12-30</th>\n",
       "      <td>1.277998</td>\n",
       "      <td>(0.0, 2.5]</td>\n",
       "    </tr>\n",
       "    <tr>\n",
       "      <th>2022-12-31</th>\n",
       "      <td>1.056591</td>\n",
       "      <td>(0.0, 2.5]</td>\n",
       "    </tr>\n",
       "  </tbody>\n",
       "</table>\n",
       "<p>11688 rows × 2 columns</p>\n",
       "</div>"
      ],
      "text/plain": [
       "               Chuva         bin\n",
       "Dia                             \n",
       "1991-01-01  1.083005  (0.0, 2.5]\n",
       "1991-01-02  1.132334  (0.0, 2.5]\n",
       "1991-01-03  1.101605  (0.0, 2.5]\n",
       "1991-01-04  1.662441  (0.0, 2.5]\n",
       "1991-01-05  1.765939  (0.0, 2.5]\n",
       "...              ...         ...\n",
       "2022-12-27  0.583862  (0.0, 2.5]\n",
       "2022-12-28  0.579153  (0.0, 2.5]\n",
       "2022-12-29  1.396807  (0.0, 2.5]\n",
       "2022-12-30  1.277998  (0.0, 2.5]\n",
       "2022-12-31  1.056591  (0.0, 2.5]\n",
       "\n",
       "[11688 rows x 2 columns]"
      ]
     },
     "execution_count": 11,
     "metadata": {},
     "output_type": "execute_result"
    }
   ],
   "source": [
    "# Cria a coluna 'bin' no DataFrame 'df1' que receberá os valores de 'chuva1'.\n",
    "df['bin'] = chuva1\n",
    "\n",
    "df"
   ]
  },
  {
   "cell_type": "markdown",
   "metadata": {},
   "source": [
    "Adicionando rótulos (nomes) nas classes do histograma."
   ]
  },
  {
   "cell_type": "code",
   "execution_count": 12,
   "metadata": {},
   "outputs": [
    {
     "data": {
      "text/plain": [
       "Dia\n",
       "1991-01-01    Muito Fraca\n",
       "1991-01-02    Muito Fraca\n",
       "1991-01-03    Muito Fraca\n",
       "1991-01-04    Muito Fraca\n",
       "1991-01-05    Muito Fraca\n",
       "                 ...     \n",
       "2022-12-27    Muito Fraca\n",
       "2022-12-28    Muito Fraca\n",
       "2022-12-29    Muito Fraca\n",
       "2022-12-30    Muito Fraca\n",
       "2022-12-31    Muito Fraca\n",
       "Name: Chuva, Length: 11688, dtype: category\n",
       "Categories (7, object): ['Muito Fraca' < 'Fraca' < 'Moderada' < 'Moderadamente Forte' < 'Forte' < 'Muito Forte' < 'Extremamente Forte']"
      ]
     },
     "execution_count": 12,
     "metadata": {},
     "output_type": "execute_result"
    }
   ],
   "source": [
    "# Bins.\n",
    "bins2 = [0, 2.5, 7.6, 15, 30, 50, 75, 100]\n",
    "\n",
    "# Observação: A quantidade de rótulos (classificacao) tem que ser uma unidade menor que a \n",
    "# quantidade de classes (bins2).\n",
    "# Exemplo: são utilizados 8 bins, logo a quantidade de rótulos deverá ser de 8-1=7 rótulos.\n",
    "\n",
    "# Rótulos.\n",
    "classificacao = [\n",
    "    'Muito Fraca', \n",
    "    'Fraca', \n",
    "    'Moderada', \n",
    "    'Moderadamente Forte', \n",
    "    'Forte', \n",
    "    'Muito Forte', \n",
    "    'Extremamente Forte'\n",
    "]\n",
    "\n",
    "# Cria o histograma.\n",
    "chuva2 = pd.cut(\n",
    "    df['Chuva'], \n",
    "    bins2, \n",
    "    labels=classificacao\n",
    ")\n",
    "\n",
    "chuva2"
   ]
  },
  {
   "cell_type": "markdown",
   "metadata": {},
   "source": [
    "Contabiliza a quantidade de valores para cada rótulo (classificacao)."
   ]
  },
  {
   "cell_type": "code",
   "execution_count": 13,
   "metadata": {},
   "outputs": [
    {
     "data": {
      "text/plain": [
       "Chuva\n",
       "Muito Fraca            8809\n",
       "Fraca                  2268\n",
       "Moderada                513\n",
       "Moderadamente Forte      68\n",
       "Forte                     1\n",
       "Muito Forte               0\n",
       "Extremamente Forte        0\n",
       "Name: count, dtype: int64"
      ]
     },
     "execution_count": 13,
     "metadata": {},
     "output_type": "execute_result"
    }
   ],
   "source": [
    "pd.value_counts(chuva2)"
   ]
  },
  {
   "cell_type": "markdown",
   "metadata": {},
   "source": [
    "Plot básico do histograma com rótulos."
   ]
  },
  {
   "cell_type": "code",
   "execution_count": 14,
   "metadata": {},
   "outputs": [
    {
     "data": {
      "text/plain": [
       "<AxesSubplot:xlabel='Chuva'>"
      ]
     },
     "execution_count": 14,
     "metadata": {},
     "output_type": "execute_result"
    },
    {
     "data": {
      "image/png": "[encoded data removed]",
      "text/plain": [
       "<Figure size 1080x360 with 1 Axes>"
      ]
     },
     "metadata": {
      "needs_background": "light"
     },
     "output_type": "display_data"
    }
   ],
   "source": [
    "pd.value_counts(chuva2).plot.bar(figsize=(15,5))"
   ]
  },
  {
   "cell_type": "code",
   "execution_count": 15,
   "metadata": {},
   "outputs": [],
   "source": [
    "# Cria a coluna 'Classificacao' no DataFrame 'df1' que recebe o valor da variável chuva2.\n",
    "df['Classificacao'] = chuva2"
   ]
  },
  {
   "cell_type": "code",
   "execution_count": 16,
   "metadata": {},
   "outputs": [
    {
     "data": {
      "text/html": [
       "<div>\n",
       "<style scoped>\n",
       "    .dataframe tbody tr th:only-of-type {\n",
       "        vertical-align: middle;\n",
       "    }\n",
       "\n",
       "    .dataframe tbody tr th {\n",
       "        vertical-align: top;\n",
       "    }\n",
       "\n",
       "    .dataframe thead th {\n",
       "        text-align: right;\n",
       "    }\n",
       "</style>\n",
       "<table border=\"1\" class=\"dataframe\">\n",
       "  <thead>\n",
       "    <tr style=\"text-align: right;\">\n",
       "      <th></th>\n",
       "      <th>Chuva</th>\n",
       "      <th>bin</th>\n",
       "      <th>Classificacao</th>\n",
       "    </tr>\n",
       "    <tr>\n",
       "      <th>Dia</th>\n",
       "      <th></th>\n",
       "      <th></th>\n",
       "      <th></th>\n",
       "    </tr>\n",
       "  </thead>\n",
       "  <tbody>\n",
       "    <tr>\n",
       "      <th>1991-01-01</th>\n",
       "      <td>1.083005</td>\n",
       "      <td>(0.0, 2.5]</td>\n",
       "      <td>Muito Fraca</td>\n",
       "    </tr>\n",
       "    <tr>\n",
       "      <th>1991-01-02</th>\n",
       "      <td>1.132334</td>\n",
       "      <td>(0.0, 2.5]</td>\n",
       "      <td>Muito Fraca</td>\n",
       "    </tr>\n",
       "    <tr>\n",
       "      <th>1991-01-03</th>\n",
       "      <td>1.101605</td>\n",
       "      <td>(0.0, 2.5]</td>\n",
       "      <td>Muito Fraca</td>\n",
       "    </tr>\n",
       "    <tr>\n",
       "      <th>1991-01-04</th>\n",
       "      <td>1.662441</td>\n",
       "      <td>(0.0, 2.5]</td>\n",
       "      <td>Muito Fraca</td>\n",
       "    </tr>\n",
       "    <tr>\n",
       "      <th>1991-01-05</th>\n",
       "      <td>1.765939</td>\n",
       "      <td>(0.0, 2.5]</td>\n",
       "      <td>Muito Fraca</td>\n",
       "    </tr>\n",
       "    <tr>\n",
       "      <th>...</th>\n",
       "      <td>...</td>\n",
       "      <td>...</td>\n",
       "      <td>...</td>\n",
       "    </tr>\n",
       "    <tr>\n",
       "      <th>2022-12-27</th>\n",
       "      <td>0.583862</td>\n",
       "      <td>(0.0, 2.5]</td>\n",
       "      <td>Muito Fraca</td>\n",
       "    </tr>\n",
       "    <tr>\n",
       "      <th>2022-12-28</th>\n",
       "      <td>0.579153</td>\n",
       "      <td>(0.0, 2.5]</td>\n",
       "      <td>Muito Fraca</td>\n",
       "    </tr>\n",
       "    <tr>\n",
       "      <th>2022-12-29</th>\n",
       "      <td>1.396807</td>\n",
       "      <td>(0.0, 2.5]</td>\n",
       "      <td>Muito Fraca</td>\n",
       "    </tr>\n",
       "    <tr>\n",
       "      <th>2022-12-30</th>\n",
       "      <td>1.277998</td>\n",
       "      <td>(0.0, 2.5]</td>\n",
       "      <td>Muito Fraca</td>\n",
       "    </tr>\n",
       "    <tr>\n",
       "      <th>2022-12-31</th>\n",
       "      <td>1.056591</td>\n",
       "      <td>(0.0, 2.5]</td>\n",
       "      <td>Muito Fraca</td>\n",
       "    </tr>\n",
       "  </tbody>\n",
       "</table>\n",
       "<p>11688 rows × 3 columns</p>\n",
       "</div>"
      ],
      "text/plain": [
       "               Chuva         bin Classificacao\n",
       "Dia                                           \n",
       "1991-01-01  1.083005  (0.0, 2.5]   Muito Fraca\n",
       "1991-01-02  1.132334  (0.0, 2.5]   Muito Fraca\n",
       "1991-01-03  1.101605  (0.0, 2.5]   Muito Fraca\n",
       "1991-01-04  1.662441  (0.0, 2.5]   Muito Fraca\n",
       "1991-01-05  1.765939  (0.0, 2.5]   Muito Fraca\n",
       "...              ...         ...           ...\n",
       "2022-12-27  0.583862  (0.0, 2.5]   Muito Fraca\n",
       "2022-12-28  0.579153  (0.0, 2.5]   Muito Fraca\n",
       "2022-12-29  1.396807  (0.0, 2.5]   Muito Fraca\n",
       "2022-12-30  1.277998  (0.0, 2.5]   Muito Fraca\n",
       "2022-12-31  1.056591  (0.0, 2.5]   Muito Fraca\n",
       "\n",
       "[11688 rows x 3 columns]"
      ]
     },
     "execution_count": 16,
     "metadata": {},
     "output_type": "execute_result"
    }
   ],
   "source": [
    "df"
   ]
  },
  {
   "cell_type": "code",
   "execution_count": 17,
   "metadata": {},
   "outputs": [],
   "source": [
    "# Remove a coluna 'bin' do DataFrame.\n",
    "df.drop(columns=['bin', 'Classificacao'], inplace=True)"
   ]
  },
  {
   "cell_type": "code",
   "execution_count": 18,
   "metadata": {},
   "outputs": [
    {
     "data": {
      "text/html": [
       "<div>\n",
       "<style scoped>\n",
       "    .dataframe tbody tr th:only-of-type {\n",
       "        vertical-align: middle;\n",
       "    }\n",
       "\n",
       "    .dataframe tbody tr th {\n",
       "        vertical-align: top;\n",
       "    }\n",
       "\n",
       "    .dataframe thead th {\n",
       "        text-align: right;\n",
       "    }\n",
       "</style>\n",
       "<table border=\"1\" class=\"dataframe\">\n",
       "  <thead>\n",
       "    <tr style=\"text-align: right;\">\n",
       "      <th></th>\n",
       "      <th>Chuva</th>\n",
       "    </tr>\n",
       "    <tr>\n",
       "      <th>Dia</th>\n",
       "      <th></th>\n",
       "    </tr>\n",
       "  </thead>\n",
       "  <tbody>\n",
       "    <tr>\n",
       "      <th>1991-01-01</th>\n",
       "      <td>1.083005</td>\n",
       "    </tr>\n",
       "    <tr>\n",
       "      <th>1991-01-02</th>\n",
       "      <td>1.132334</td>\n",
       "    </tr>\n",
       "    <tr>\n",
       "      <th>1991-01-03</th>\n",
       "      <td>1.101605</td>\n",
       "    </tr>\n",
       "    <tr>\n",
       "      <th>1991-01-04</th>\n",
       "      <td>1.662441</td>\n",
       "    </tr>\n",
       "    <tr>\n",
       "      <th>1991-01-05</th>\n",
       "      <td>1.765939</td>\n",
       "    </tr>\n",
       "    <tr>\n",
       "      <th>...</th>\n",
       "      <td>...</td>\n",
       "    </tr>\n",
       "    <tr>\n",
       "      <th>2022-12-27</th>\n",
       "      <td>0.583862</td>\n",
       "    </tr>\n",
       "    <tr>\n",
       "      <th>2022-12-28</th>\n",
       "      <td>0.579153</td>\n",
       "    </tr>\n",
       "    <tr>\n",
       "      <th>2022-12-29</th>\n",
       "      <td>1.396807</td>\n",
       "    </tr>\n",
       "    <tr>\n",
       "      <th>2022-12-30</th>\n",
       "      <td>1.277998</td>\n",
       "    </tr>\n",
       "    <tr>\n",
       "      <th>2022-12-31</th>\n",
       "      <td>1.056591</td>\n",
       "    </tr>\n",
       "  </tbody>\n",
       "</table>\n",
       "<p>11688 rows × 1 columns</p>\n",
       "</div>"
      ],
      "text/plain": [
       "               Chuva\n",
       "Dia                 \n",
       "1991-01-01  1.083005\n",
       "1991-01-02  1.132334\n",
       "1991-01-03  1.101605\n",
       "1991-01-04  1.662441\n",
       "1991-01-05  1.765939\n",
       "...              ...\n",
       "2022-12-27  0.583862\n",
       "2022-12-28  0.579153\n",
       "2022-12-29  1.396807\n",
       "2022-12-30  1.277998\n",
       "2022-12-31  1.056591\n",
       "\n",
       "[11688 rows x 1 columns]"
      ]
     },
     "execution_count": 18,
     "metadata": {},
     "output_type": "execute_result"
    }
   ],
   "source": [
    "df"
   ]
  }
 ],
 "metadata": {
  "kernelspec": {
   "display_name": "cbagro",
   "language": "python",
   "name": "python3"
  },
  "language_info": {
   "codemirror_mode": {
    "name": "ipython",
    "version": 3
   },
   "file_extension": ".py",
   "mimetype": "text/x-python",
   "name": "python",
   "nbconvert_exporter": "python",
   "pygments_lexer": "ipython3",
   "version": "3.9.12"
  },
  "orig_nbformat": 4
 },
 "nbformat": 4,
 "nbformat_minor": 2
}
